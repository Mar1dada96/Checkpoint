{
 "cells": [
  {
   "cell_type": "markdown",
   "id": "41afb030",
   "metadata": {},
   "source": [
    "# Write a Python function to find the Max of three numbers."
   ]
  },
  {
   "cell_type": "code",
   "execution_count": 5,
   "id": "a7775148",
   "metadata": {},
   "outputs": [
    {
     "data": {
      "text/plain": [
       "35"
      ]
     },
     "execution_count": 5,
     "metadata": {},
     "output_type": "execute_result"
    }
   ],
   "source": [
    "def max_of_three(x,y,z):\n",
    "    if x>=y and x>=z:\n",
    "        return x\n",
    "    elif y>=x and y>=z:\n",
    "        return y\n",
    "    else:\n",
    "        return z\n",
    "max_of_three(25,35,19)"
   ]
  },
  {
   "cell_type": "markdown",
   "id": "cda16327",
   "metadata": {},
   "source": [
    "# Write a function calculation() such that it can accept two variables and calculate the addition and subtraction of it. And also it must return both addition and subtraction in a single return call"
   ]
  },
  {
   "cell_type": "code",
   "execution_count": 8,
   "id": "1f6cae2d",
   "metadata": {},
   "outputs": [
    {
     "data": {
      "text/plain": [
       "(50, 30)"
      ]
     },
     "execution_count": 8,
     "metadata": {},
     "output_type": "execute_result"
    }
   ],
   "source": [
    "def calculation(x,y):\n",
    "    return x+y , x-y\n",
    "calculation(40,10)"
   ]
  },
  {
   "cell_type": "markdown",
   "id": "4eab3d42",
   "metadata": {},
   "source": [
    "# * Write a function that sums the elements of a list of integers.\n",
    "# * Write a function that multiplies the elements of an integer list.\n",
    "# * Use the two functions to sum the elements whose position is an even number (0,2,4…) and multiply the rest."
   ]
  },
  {
   "cell_type": "code",
   "execution_count": 25,
   "id": "f829f057",
   "metadata": {},
   "outputs": [
    {
     "data": {
      "text/plain": [
       "11"
      ]
     },
     "execution_count": 25,
     "metadata": {},
     "output_type": "execute_result"
    }
   ],
   "source": [
    "def _sum_(list):\n",
    "    x = 0\n",
    "    for i in range(0,len(list)):\n",
    "        x += list[i]\n",
    "    return x\n",
    "l = [2,4,3,2]\n",
    "_sum_(l)"
   ]
  },
  {
   "cell_type": "code",
   "execution_count": 35,
   "id": "e2c86644",
   "metadata": {},
   "outputs": [
    {
     "data": {
      "text/plain": [
       "48"
      ]
     },
     "execution_count": 35,
     "metadata": {},
     "output_type": "execute_result"
    }
   ],
   "source": [
    "#Write a function that multiplies the elements of an integer list.\n",
    "def multip(list):\n",
    "    x = 1\n",
    "    for i in range(len(list)):\n",
    "        x *= list[i]\n",
    "    return x\n",
    "l = [2,4,3,2]\n",
    "multip(l)"
   ]
  },
  {
   "cell_type": "code",
   "execution_count": 36,
   "id": "2de4b49c",
   "metadata": {},
   "outputs": [
    {
     "data": {
      "text/plain": [
       "(5, 8)"
      ]
     },
     "execution_count": 36,
     "metadata": {},
     "output_type": "execute_result"
    }
   ],
   "source": [
    "#Use the two functions to sum the elements whose position is an even number (0,2,4…) and multiply the rest.\n",
    "def _odd_or_even_(list):\n",
    "    _even_ = []\n",
    "    _odd_ = []\n",
    "    for i in range(len(list)):\n",
    "        if i%2!=0:\n",
    "            _odd_.append(list[i])\n",
    "        else:\n",
    "            _even_.append(list[i])\n",
    "    return _sum_(_even_), multip(_odd_)\n",
    "l = [2,4,3,2]\n",
    "_odd_or_even_(l)"
   ]
  },
  {
   "cell_type": "code",
   "execution_count": 38,
   "id": "fea509c1",
   "metadata": {},
   "outputs": [
    {
     "name": "stdout",
     "output_type": "stream",
     "text": [
      "red-green-yellow-black\n",
      "black-green-red-yellow\n"
     ]
    }
   ],
   "source": [
    "def ch():\n",
    "    i=input().split('-')\n",
    "    i.sort()\n",
    "    print('-'.join(i))\n",
    "ch()"
   ]
  },
  {
   "cell_type": "markdown",
   "id": "880086e6",
   "metadata": {},
   "source": [
    "# Write a function that calculates and prints the value according to the given formula: Q = Square root of [(2 * C * D)/H] Following are the fixed values of C and H: C is 50. H is 30. D is the variable whose values should be input to your program in a comma-separated sequence. "
   ]
  },
  {
   "cell_type": "code",
   "execution_count": 40,
   "id": "452589d7",
   "metadata": {},
   "outputs": [
    {
     "name": "stdout",
     "output_type": "stream",
     "text": [
      "entrez une valeur: 100,150,180\n",
      "[18, 22, 24]\n"
     ]
    }
   ],
   "source": [
    "import math\n",
    "def calcul_squrt():\n",
    "    n=input(\"entrez une valeur: \")\n",
    "    n=n.split(',')\n",
    "    res=[]\n",
    "    for D in n:\n",
    "        Q= round(math.sqrt(2*50*int(D)/30))\n",
    "        res.append(Q)\n",
    "    print(res)\n",
    "calcul_squrt()        "
   ]
  }
 ],
 "metadata": {
  "kernelspec": {
   "display_name": "Python 3 (ipykernel)",
   "language": "python",
   "name": "python3"
  },
  "language_info": {
   "codemirror_mode": {
    "name": "ipython",
    "version": 3
   },
   "file_extension": ".py",
   "mimetype": "text/x-python",
   "name": "python",
   "nbconvert_exporter": "python",
   "pygments_lexer": "ipython3",
   "version": "3.9.7"
  }
 },
 "nbformat": 4,
 "nbformat_minor": 5
}
