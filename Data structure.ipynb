{
 "cells": [
  {
   "cell_type": "markdown",
   "id": "d9834446",
   "metadata": {},
   "source": [
    "# Q1:\n",
    "# Write a Python program to multiplies all the items in a list."
   ]
  },
  {
   "cell_type": "code",
   "execution_count": 4,
   "id": "75974fac",
   "metadata": {},
   "outputs": [
    {
     "name": "stdout",
     "output_type": "stream",
     "text": [
      "36\n"
     ]
    }
   ],
   "source": [
    "l=[2,3,6]\n",
    "r=1\n",
    "for i in l:\n",
    "    r *= i\n",
    "print(r)"
   ]
  },
  {
   "cell_type": "markdown",
   "id": "4a648976",
   "metadata": {},
   "source": [
    "# Q2:\n",
    "# Write a Python program to get a list, sorted in increasing order by the last element in each tuple from a given list of non-empty tuples."
   ]
  },
  {
   "cell_type": "code",
   "execution_count": 5,
   "id": "ce2e3712",
   "metadata": {},
   "outputs": [
    {
     "data": {
      "text/plain": [
       "[(2, 1), (1, 2), (2, 3), (4, 4), (2, 5)]"
      ]
     },
     "execution_count": 5,
     "metadata": {},
     "output_type": "execute_result"
    }
   ],
   "source": [
    "l=[(2, 5), (1, 2), (4, 4), (2, 3), (2, 1)]\n",
    "l.sort(key = lambda x:x[-1])\n",
    "l"
   ]
  },
  {
   "cell_type": "markdown",
   "id": "28da7759",
   "metadata": {},
   "source": [
    "# Q3 :\n",
    "# Write a Python program to combine two dictionary adding values for common keys."
   ]
  },
  {
   "cell_type": "code",
   "execution_count": 7,
   "id": "640ac6c1",
   "metadata": {},
   "outputs": [
    {
     "data": {
      "text/plain": [
       "{'a': 400, 'b': 400, 'c': 300, 'd': 400}"
      ]
     },
     "execution_count": 7,
     "metadata": {},
     "output_type": "execute_result"
    }
   ],
   "source": [
    "d1 = {'a': 100, 'b': 200, 'c':300}\n",
    "d2 = {'a': 300, 'b': 200, 'd':400}\n",
    "d={}\n",
    "for k in d1.keys():\n",
    "    d[k]=d1[k]+d2.get(k,0)\n",
    "    \n",
    "for k in d2.keys():\n",
    "    d[k]=d2[k]+d1.get(k,0)\n",
    "d"
   ]
  },
  {
   "cell_type": "markdown",
   "id": "1ad5f659",
   "metadata": {},
   "source": [
    "# Q4:\n",
    "# With a given integral number n, write a program to generate a dictionary that contains (i, i*i) such that is an integral number between 1 and n (both included). and then the program should print the dictionary."
   ]
  },
  {
   "cell_type": "code",
   "execution_count": 11,
   "id": "c9a183cf",
   "metadata": {},
   "outputs": [
    {
     "name": "stdout",
     "output_type": "stream",
     "text": [
      "give a number: 8\n",
      "{1: 1, 2: 4, 3: 9, 4: 16, 5: 25, 6: 36, 7: 49, 8: 64}\n"
     ]
    }
   ],
   "source": [
    "n=int(input(\"give a number: \"))\n",
    "multip_dict={}\n",
    "for i in range(1,n+1):\n",
    "    x=i**2\n",
    "    multip_dict.setdefault(i,x)\n",
    "print(multip_dict)"
   ]
  },
  {
   "cell_type": "markdown",
   "id": "925c95a3",
   "metadata": {},
   "source": [
    "# Q5:\n",
    "# Write a program to sort a tuple by its float element."
   ]
  },
  {
   "cell_type": "code",
   "execution_count": 10,
   "id": "fede70e7",
   "metadata": {},
   "outputs": [
    {
     "name": "stdout",
     "output_type": "stream",
     "text": [
      "[('item3', '24.5'), ('item2', '15.10'), ('item1', '12.20')]\n"
     ]
    }
   ],
   "source": [
    "gmd_list= [('item1', '12.20'), ('item2', '15.10'), ('item3', '24.5')]\n",
    "gmd_list.sort(key= lambda x:x[-1])\n",
    "gmd_list.sort( reverse = True)\n",
    "print(gmd_list)"
   ]
  }
 ],
 "metadata": {
  "kernelspec": {
   "display_name": "Python 3 (ipykernel)",
   "language": "python",
   "name": "python3"
  },
  "language_info": {
   "codemirror_mode": {
    "name": "ipython",
    "version": 3
   },
   "file_extension": ".py",
   "mimetype": "text/x-python",
   "name": "python",
   "nbconvert_exporter": "python",
   "pygments_lexer": "ipython3",
   "version": "3.9.7"
  }
 },
 "nbformat": 4,
 "nbformat_minor": 5
}
