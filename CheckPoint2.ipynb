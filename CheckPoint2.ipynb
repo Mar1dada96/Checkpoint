{
 "cells": [
  {
   "cell_type": "markdown",
   "id": "1e1e40ac",
   "metadata": {},
   "source": [
    "# Q1"
   ]
  },
  {
   "cell_type": "markdown",
   "id": "ea0bb1ba",
   "metadata": {},
   "source": [
    "# Write a Python program which accepts the user's first and last name and print them in reverse order with a space between them."
   ]
  },
  {
   "cell_type": "code",
   "execution_count": 5,
   "id": "2ffa4dee",
   "metadata": {},
   "outputs": [
    {
     "name": "stdout",
     "output_type": "stream",
     "text": [
      "Marouane\n",
      "Boukhdada\n",
      "Boukhdada Marouane\n"
     ]
    }
   ],
   "source": [
    "first_name = input()\n",
    "last_name = input()\n",
    "print(last_name+\" \"+first_name)"
   ]
  },
  {
   "cell_type": "markdown",
   "id": "00a34926",
   "metadata": {},
   "source": [
    "# Q2"
   ]
  },
  {
   "cell_type": "markdown",
   "id": "b7ea551c",
   "metadata": {},
   "source": [
    "# Write a Python program that accepts an integer (n) and computes the value of n+nn+nnn"
   ]
  },
  {
   "cell_type": "code",
   "execution_count": 10,
   "id": "597fc01b",
   "metadata": {},
   "outputs": [
    {
     "name": "stdout",
     "output_type": "stream",
     "text": [
      "entre une valeur:5\n",
      "615 = 5 + 55 + 555\n"
     ]
    }
   ],
   "source": [
    "n=input(\"entre une valeur:\",)\n",
    "nn=n*2\n",
    "nnn=n*3\n",
    "\n",
    "sum = int(n) + int(nn) + int(nnn)\n",
    "\n",
    "print(sum,\"=\",n,\"+\",nn,\"+\",nnn)"
   ]
  },
  {
   "cell_type": "markdown",
   "id": "f9d1ed4a",
   "metadata": {},
   "source": [
    "# Q3"
   ]
  },
  {
   "cell_type": "markdown",
   "id": "49d2a109",
   "metadata": {},
   "source": [
    "# Write a Python program to find whether a given number (accept from the user) is even or odd, print out an appropriate message to the user."
   ]
  },
  {
   "cell_type": "code",
   "execution_count": 11,
   "id": "1585d333",
   "metadata": {},
   "outputs": [
    {
     "name": "stdout",
     "output_type": "stream",
     "text": [
      "entre une valeur:44\n",
      "44 est pair\n"
     ]
    }
   ],
   "source": [
    "n= int(input(\"entre une valeur:\"))\n",
    "if n%2==0:\n",
    "    print(n, \"est pair\")\n",
    "else:\n",
    "    print(n , \"est impair\")"
   ]
  },
  {
   "cell_type": "markdown",
   "id": "4d4c4a5f",
   "metadata": {},
   "source": [
    "# Q4"
   ]
  },
  {
   "cell_type": "markdown",
   "id": "69da5c63",
   "metadata": {},
   "source": [
    "# Write a program which will find all such numbers which are divisible by 7 but are not a multiple of 5, between 2000 and 3200 (both included). The numbers obtained should be printed in a sequence on a single line."
   ]
  },
  {
   "cell_type": "code",
   "execution_count": 12,
   "id": "d982499a",
   "metadata": {},
   "outputs": [
    {
     "name": "stdout",
     "output_type": "stream",
     "text": [
      "2030,2065,2100,2135,2170,2205,2240,2275,2310,2345,2380,2415,2450,2485,2520,2555,2590,2625,2660,2695,2730,2765,2800,2835,2870,2905,2940,2975,3010,3045,3080,3115,3150,3185,"
     ]
    }
   ],
   "source": [
    "for i in range(2000,3201):\n",
    "    if i%7==0 and i%5==0:\n",
    "        print(i, end=\",\")"
   ]
  },
  {
   "cell_type": "markdown",
   "id": "f7c937aa",
   "metadata": {},
   "source": [
    "# Q5"
   ]
  },
  {
   "cell_type": "markdown",
   "id": "3b10651b",
   "metadata": {},
   "source": [
    "# Write a program that can compute the factorial of a given number. The results should be printed in a sequence on a single line. Suppose the following input is supplied to the program: 8 Then, the output should be: 40320 "
   ]
  },
  {
   "cell_type": "code",
   "execution_count": 14,
   "id": "b132b427",
   "metadata": {},
   "outputs": [
    {
     "name": "stdout",
     "output_type": "stream",
     "text": [
      "entre un e valeur8\n",
      "1\n",
      "2\n",
      "6\n",
      "24\n",
      "120\n",
      "720\n",
      "5040\n",
      "40320\n"
     ]
    }
   ],
   "source": [
    "n=int(input(\"entre un e valeur\"))\n",
    "if n==0 or n==1:\n",
    "    print(1)\n",
    "else:\n",
    "    f=1\n",
    "    for i in range(1,n+1):\n",
    "        f=f*i\n",
    "        print(f)"
   ]
  },
  {
   "cell_type": "markdown",
   "id": "49382362",
   "metadata": {},
   "source": [
    "## Q6"
   ]
  },
  {
   "cell_type": "markdown",
   "id": "667415c8",
   "metadata": {},
   "source": [
    "# Write a program to remove the characters which have odd index values of a given string."
   ]
  },
  {
   "cell_type": "code",
   "execution_count": 25,
   "id": "685654ef",
   "metadata": {},
   "outputs": [
    {
     "name": "stdout",
     "output_type": "stream",
     "text": [
      "entre une chaine: Hello team\n",
      "Hlota"
     ]
    }
   ],
   "source": [
    "string= input(\"entre une chaine: \")\n",
    "for i in range(0,len(string),2):\n",
    "    print(string[i], end=\"\")"
   ]
  },
  {
   "cell_type": "markdown",
   "id": "1d13ceb1",
   "metadata": {},
   "source": [
    "## Q7"
   ]
  },
  {
   "cell_type": "markdown",
   "id": "cbe32367",
   "metadata": {},
   "source": [
    "# In this challenge, you must discount a price according to its value.\n",
    "\n",
    "- If the price is 500 or above, there will be a 50% discount.\n",
    "\n",
    "- If the price is between 200 and 500 (200 inclusive), there will be a 30% discount.\n",
    "\n",
    "- If the price is less than 200, there will be a 10% discount."
   ]
  },
  {
   "cell_type": "code",
   "execution_count": 9,
   "id": "26721852",
   "metadata": {},
   "outputs": [
    {
     "name": "stdout",
     "output_type": "stream",
     "text": [
      "entrez un prix: 499\n",
      "Discounted price:  349.29999999999995\n"
     ]
    }
   ],
   "source": [
    "price= int(input('entrez un prix: '))\n",
    "if price>=500:\n",
    "    price=price*0.5\n",
    "elif price>=200 and price<500:\n",
    "    price=price*0.7\n",
    "else:\n",
    "    price=price*0.9\n",
    "print('Discounted price: ', price)"
   ]
  },
  {
   "cell_type": "code",
   "execution_count": null,
   "id": "1bfdea09",
   "metadata": {},
   "outputs": [],
   "source": []
  }
 ],
 "metadata": {
  "kernelspec": {
   "display_name": "Python 3 (ipykernel)",
   "language": "python",
   "name": "python3"
  },
  "language_info": {
   "codemirror_mode": {
    "name": "ipython",
    "version": 3
   },
   "file_extension": ".py",
   "mimetype": "text/x-python",
   "name": "python",
   "nbconvert_exporter": "python",
   "pygments_lexer": "ipython3",
   "version": "3.9.7"
  }
 },
 "nbformat": 4,
 "nbformat_minor": 5
}
