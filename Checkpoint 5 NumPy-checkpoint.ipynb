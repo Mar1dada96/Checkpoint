{
 "cells": [
  {
   "cell_type": "markdown",
   "id": "273da8d4",
   "metadata": {},
   "source": [
    "# Write a Python program to convert an array to an ordinary list with the same items."
   ]
  },
  {
   "cell_type": "code",
   "execution_count": 16,
   "id": "63a594ff",
   "metadata": {},
   "outputs": [
    {
     "data": {
      "text/plain": [
       "[[1, 2, 3], [4, 5, 6], [7, 8, 9]]"
      ]
     },
     "execution_count": 16,
     "metadata": {},
     "output_type": "execute_result"
    }
   ],
   "source": [
    "import numpy as np\n",
    "my_array = np.array([[1,2,3],[4,5,6],[7,8,9]])\n",
    "my_list = my_array.tolist()\n",
    "my_list"
   ]
  },
  {
   "cell_type": "markdown",
   "id": "6905b443",
   "metadata": {},
   "source": [
    "# Write a NumPy program to compute the sum of the diagonal elements of a given array."
   ]
  },
  {
   "cell_type": "markdown",
   "id": "f685c309",
   "metadata": {},
   "source": [
    "# np.trace() method:"
   ]
  },
  {
   "cell_type": "code",
   "execution_count": 20,
   "id": "9fac3887",
   "metadata": {},
   "outputs": [
    {
     "data": {
      "text/plain": [
       "15"
      ]
     },
     "execution_count": 20,
     "metadata": {},
     "output_type": "execute_result"
    }
   ],
   "source": [
    "my_array\n",
    "array_sum = np.trace(my_array)\n",
    "array_sum"
   ]
  },
  {
   "cell_type": "markdown",
   "id": "0d983044",
   "metadata": {},
   "source": [
    "# np.digonal() method:"
   ]
  },
  {
   "cell_type": "code",
   "execution_count": 21,
   "id": "402a41e9",
   "metadata": {},
   "outputs": [
    {
     "data": {
      "text/plain": [
       "15"
      ]
     },
     "execution_count": 21,
     "metadata": {},
     "output_type": "execute_result"
    }
   ],
   "source": [
    "val_diagonal = my_array.diagonal()\n",
    "s = 0\n",
    "for i in range(len(val_diagonal)):\n",
    "    s = s + val_diagonal[i]\n",
    "s"
   ]
  },
  {
   "cell_type": "markdown",
   "id": "ad84821d",
   "metadata": {},
   "source": [
    "# Given an array of your choice, get all the values higher than X :\n",
    "\n",
    "if a = [[1,2],[3,5]] and x = 2 :  then 3 and 5 are higher than 2. Given an array of your choice, get all the values higher than X :\n",
    "\n",
    "if a = [[1,2],[3,5]] and x = 2 :  then 3 and 5 are higher than 2. "
   ]
  },
  {
   "cell_type": "code",
   "execution_count": 22,
   "id": "648a2408",
   "metadata": {},
   "outputs": [
    {
     "name": "stdout",
     "output_type": "stream",
     "text": [
      "6 is higher than 2\n",
      "3 is higher than 2\n",
      "5 is higher than 2\n",
      "7 is higher than 2\n"
     ]
    }
   ],
   "source": [
    "a= np.array([[1,2,6],[3,5,7]])\n",
    "x=2\n",
    "for i in range(a.shape[0]):\n",
    "    for j in range(a.shape[1]):\n",
    "        if a[i][j] > x:\n",
    "            print(a[i][j] ,\"is higher than\", x)"
   ]
  },
  {
   "cell_type": "markdown",
   "id": "552cce5e",
   "metadata": {},
   "source": [
    "# Given two arrays, A & B have the same shape. \n",
    "\n",
    "# The task is to apply addition by hand: C is the new array."
   ]
  },
  {
   "cell_type": "code",
   "execution_count": 25,
   "id": "6da195f7",
   "metadata": {},
   "outputs": [
    {
     "data": {
      "text/plain": [
       "array([ 7,  9, 11, 13, 15])"
      ]
     },
     "execution_count": 25,
     "metadata": {},
     "output_type": "execute_result"
    }
   ],
   "source": [
    "a = np.array([1,2,3,4,5])\n",
    "b = np.array([6,7,8,9,10])\n",
    "c = a + b\n",
    "c"
   ]
  },
  {
   "cell_type": "markdown",
   "id": "824b6b5a",
   "metadata": {},
   "source": [
    "# Write a NumPy program to subtract the mean of each row of a given matrix."
   ]
  },
  {
   "cell_type": "code",
   "execution_count": 33,
   "id": "2865518b",
   "metadata": {},
   "outputs": [
    {
     "data": {
      "text/plain": [
       "array([ 60.        ,  47.        , 104.66666667])"
      ]
     },
     "execution_count": 33,
     "metadata": {},
     "output_type": "execute_result"
    }
   ],
   "source": [
    "new_array = np.array([[50,100,30],[13,50,78],[99,150,65]])\n",
    "array_mean = np.mean(new_array,axis=1)\n",
    "array_mean"
   ]
  }
 ],
 "metadata": {
  "kernelspec": {
   "display_name": "Python 3 (ipykernel)",
   "language": "python",
   "name": "python3"
  },
  "language_info": {
   "codemirror_mode": {
    "name": "ipython",
    "version": 3
   },
   "file_extension": ".py",
   "mimetype": "text/x-python",
   "name": "python",
   "nbconvert_exporter": "python",
   "pygments_lexer": "ipython3",
   "version": "3.9.7"
  }
 },
 "nbformat": 4,
 "nbformat_minor": 5
}
