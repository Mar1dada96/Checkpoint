{
 "cells": [
  {
   "cell_type": "markdown",
   "id": "fee83c58",
   "metadata": {},
   "source": [
    "# Write a python class named Point3D defined by x, y, and z. Define a method that returns (x, y ,z). This tells Python to represent this object in the following format: (x, y, z). Then create a variable named my_point containing a new instance of Point3D with x=1, y=2, and z=3 and print it."
   ]
  },
  {
   "cell_type": "code",
   "execution_count": 6,
   "id": "1661acc6",
   "metadata": {},
   "outputs": [
    {
     "name": "stdout",
     "output_type": "stream",
     "text": [
      "(1, 2, 3)\n"
     ]
    }
   ],
   "source": [
    "class Point3D:\n",
    "    def __init__(self, x,y,z):\n",
    "        self.x = x\n",
    "        self.y = y\n",
    "        self.z = z\n",
    "    def affichage(self):\n",
    "        return self.x, self.y, self.z\n",
    "my_point = Point3D(1,2,3)\n",
    "print(my_point.affichage())"
   ]
  },
  {
   "cell_type": "markdown",
   "id": "f550186b",
   "metadata": {},
   "source": [
    "# Write a Python class named Rectangle constructed by a length and width. Define two methods area and perimeter which will compute the area and the perimeter of the rectangle. Then create a variable named my_rectangle containing a new instance of Rectangle with width=3 and length = 4 and compute both of area and perimeter ( the area is expected to be 3*4=12 and perimeter 2*(3+4)=14)"
   ]
  },
  {
   "cell_type": "code",
   "execution_count": 9,
   "id": "8bfceec3",
   "metadata": {},
   "outputs": [
    {
     "name": "stdout",
     "output_type": "stream",
     "text": [
      "Area = 12\n",
      "Perimeter = 14\n"
     ]
    }
   ],
   "source": [
    "class Rectangle:\n",
    "    def __init__(self, lenght, width):\n",
    "        self.lenght = lenght\n",
    "        self.width = width\n",
    "    def area(self):\n",
    "        return self.lenght*self.width\n",
    "    def perimeter(self):\n",
    "        return 2*(self.lenght+self.width)\n",
    "my_rectangle = Rectangle(3,4)\n",
    "print(\"Area =\",my_rectangle.area())\n",
    "print(\"Perimeter =\",my_rectangle.perimeter())"
   ]
  },
  {
   "cell_type": "markdown",
   "id": "cf863813",
   "metadata": {},
   "source": [
    "# Write a Python  class named Circle constructed by its center O and radius r. Define two methods area and perimeter which will compute the area and the perimeter of the circle, and isInside() method of the class which allows to test whether a point A(x, y) belongs to the circle C(O, r) or not.\n"
   ]
  },
  {
   "cell_type": "code",
   "execution_count": 9,
   "id": "7c81a3b3",
   "metadata": {},
   "outputs": [
    {
     "name": "stdout",
     "output_type": "stream",
     "text": [
      "This point is inside my circle\n",
      "The area of the circle is: 254.46900494077323\n",
      "The primeter of the circle is: 56.548667764616276\n"
     ]
    }
   ],
   "source": [
    "from math import pi\n",
    "class Circle:\n",
    "    def __init__(self, O_x, O_y, r):\n",
    "        self.O_x = O_x\n",
    "        self.O_y = O_y\n",
    "        self.r = r\n",
    "    def area(self):\n",
    "        return pi*self.r**2\n",
    "    def primeter(self):\n",
    "        return pi*2*self.r\n",
    "    def isInside(self, x, y):\n",
    "        if ((x - self.O_x)**2 + (y - self.O_y)**2 <= self.r**2):\n",
    "            return True\n",
    "        else:\n",
    "            return False\n",
    "my_circle = Circle(0,0,9)\n",
    "if (my_circle.isInside(3,-3)==True):\n",
    "    print(\"This point is inside my circle\")\n",
    "else:\n",
    "    print(\"This point is outside my circle\")\n",
    "\n",
    "print(\"The area of the circle is:\", my_circle.area())\n",
    "print(\"The primeter of the circle is:\", my_circle.primeter())"
   ]
  },
  {
   "cell_type": "markdown",
   "id": "2adfa827",
   "metadata": {},
   "source": [
    "# Suppose we want to model a bank account with support for deposit and withdraw operations. Let’s create a python class named bank defined by its balance. Define two methods deposit and withdraw to compute the new amount of each operation."
   ]
  },
  {
   "cell_type": "code",
   "execution_count": 1,
   "id": "9a80e835",
   "metadata": {},
   "outputs": [
    {
     "name": "stdout",
     "output_type": "stream",
     "text": [
      "Withdrawal amount:9000\n",
      "Deposit amount: 5000\n",
      "A100 = 41000\n",
      "A101 = 11000\n"
     ]
    }
   ],
   "source": [
    "class Bank:\n",
    "    def __init__(self, account,credit):\n",
    "        self.account = account\n",
    "        self.credit = credit\n",
    "    def withdraw(self):\n",
    "        withdraw = int(input(\"Withdrawal amount:\"))\n",
    "        self.credit = self.credit - withdraw\n",
    "        return self.credit\n",
    "    def deposit(self):\n",
    "        deposit = int(input(\"Deposit amount: \"))\n",
    "        self.credit = self.credit + deposit\n",
    "        return self.credit\n",
    "\n",
    "account_1 = Bank(\"A100\", 50000)\n",
    "account_2 = Bank(\"A101\", 6000)\n",
    "account_1.withdraw()\n",
    "account_2.deposit()\n",
    "print(account_1.account, \"=\", account_1.credit)\n",
    "print(account_2.account, \"=\", account_2.credit)\n"
   ]
  }
 ],
 "metadata": {
  "kernelspec": {
   "display_name": "Python 3 (ipykernel)",
   "language": "python",
   "name": "python3"
  },
  "language_info": {
   "codemirror_mode": {
    "name": "ipython",
    "version": 3
   },
   "file_extension": ".py",
   "mimetype": "text/x-python",
   "name": "python",
   "nbconvert_exporter": "python",
   "pygments_lexer": "ipython3",
   "version": "3.9.7"
  }
 },
 "nbformat": 4,
 "nbformat_minor": 5
}
